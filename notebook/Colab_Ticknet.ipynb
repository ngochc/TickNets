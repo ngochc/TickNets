{
  "nbformat": 4,
  "nbformat_minor": 0,
  "metadata": {
    "colab": {
      "provenance": [],
      "gpuType": "T4"
    },
    "kernelspec": {
      "name": "python3",
      "display_name": "Python 3"
    },
    "language_info": {
      "name": "python"
    },
    "accelerator": "GPU"
  },
  "cells": [
    {
      "cell_type": "code",
      "source": [
        "from google.colab import drive\n",
        "drive.mount('/content/drive')"
      ],
      "metadata": {
        "colab": {
          "base_uri": "https://localhost:8080/"
        },
        "id": "-3IlVY1vtocn",
        "outputId": "cf690114-c591-4d5a-c253-ba05dab454e8"
      },
      "execution_count": null,
      "outputs": [
        {
          "output_type": "stream",
          "name": "stdout",
          "text": [
            "Mounted at /content/drive\n"
          ]
        }
      ]
    },
    {
      "cell_type": "code",
      "source": [
        "#!git clone https://github.com/ngochc/TickNets.git ./drive/MyDrive/deep_learning/TickNets\n",
        "%cd /content/drive/MyDrive/deep_learning/TickNets\n",
        "!git fetch\n",
        "!git pull\n",
        "%cd /content"
      ],
      "metadata": {
        "colab": {
          "base_uri": "https://localhost:8080/"
        },
        "id": "Yyz05H8c4bxP",
        "outputId": "678d97dc-28ff-4256-e19e-1175505e09eb"
      },
      "execution_count": null,
      "outputs": [
        {
          "output_type": "stream",
          "name": "stdout",
          "text": [
            "Cloning into './drive/MyDrive/deep_learning/TickNets'...\n",
            "remote: Enumerating objects: 235, done.\u001b[K\n",
            "remote: Counting objects: 100% (99/99), done.\u001b[K\n",
            "remote: Compressing objects: 100% (90/90), done.\u001b[K\n",
            "remote: Total 235 (delta 49), reused 6 (delta 2), pack-reused 136 (from 1)\u001b[K\n",
            "Receiving objects: 100% (235/235), 18.39 MiB | 11.18 MiB/s, done.\n",
            "Resolving deltas: 100% (93/93), done.\n"
          ]
        }
      ]
    },
    {
      "cell_type": "code",
      "source": [
        "!mkdir datasets\n",
        "!mkdir datasets/StanfordDogs\n",
        "!cp /content/drive/MyDrive/deep_learning/datasets/StanfordDogs/images.tar /content/datasets/StanfordDogs\n"
      ],
      "metadata": {
        "id": "-jL6lE74IOiq",
        "colab": {
          "base_uri": "https://localhost:8080/"
        },
        "outputId": "1a694431-77ac-4382-d3b5-abc5aad1f7f0"
      },
      "execution_count": null,
      "outputs": [
        {
          "output_type": "stream",
          "name": "stdout",
          "text": [
            "File copied successfully\n"
          ]
        }
      ]
    },
    {
      "cell_type": "code",
      "source": [
        "# !python /content/drive/MyDrive/deep_learning/TickNets/TickNet_Dogs.py \\\n",
        "#     --download \\\n",
        "#     --architecture-types basic small large \\\n",
        "#     --data-root='./datasets/StanfordDogs' \\\n",
        "#     --base-dir='/content/drive/MyDrive/deep_learning/TickNets' \\\n",
        "#     -g 0 \\\n",
        "#     -e 100 \\\n",
        "#     -b 128\n",
        "\n",
        "# !cp -r /content/datasets/StanfordDogs /content/drive/MyDrive/deep_learning/datasets/\n",
        "# !cp -r /content/drive/MyDrive/deep_learning/datasets/StanfordDogs /content/datasets/"
      ],
      "metadata": {
        "id": "YW1U3uy0gcFl"
      },
      "execution_count": null,
      "outputs": []
    },
    {
      "cell_type": "code",
      "source": [
        "!python /content/drive/MyDrive/deep_learning/TickNets/TickNet_Dogs.py \\\n",
        "    --download \\\n",
        "    --architecture-types small \\\n",
        "    --data-root='./datasets/StanfordDogs' \\\n",
        "    --base-dir='/content/drive/MyDrive/deep_learning/TickNets' \\\n",
        "    -g 0"
      ],
      "metadata": {
        "id": "8IjkRiADgXfd"
      },
      "execution_count": null,
      "outputs": []
    }
  ]
}