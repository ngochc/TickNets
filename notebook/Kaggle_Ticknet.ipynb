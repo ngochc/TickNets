{
 "cells": [
  {
   "cell_type": "code",
   "execution_count": null,
   "metadata": {
    "_cell_guid": "b1076dfc-b9ad-4769-8c92-a6c4dae69d19",
    "_uuid": "8f2839f25d086af736a60e9eeb907d3b93b6e0e5",
    "execution": {
     "iopub.execute_input": "2025-01-06T05:28:28.470429Z",
     "iopub.status.busy": "2025-01-06T05:28:28.470019Z",
     "iopub.status.idle": "2025-01-06T05:28:28.591359Z",
     "shell.execute_reply": "2025-01-06T05:28:28.590169Z",
     "shell.execute_reply.started": "2025-01-06T05:28:28.470385Z"
    },
    "trusted": true
   },
   "outputs": [],
   "source": [
    "!git clone https://github.com/ngochc/TickNets.git"
   ]
  },
  {
   "cell_type": "code",
   "execution_count": null,
   "metadata": {
    "execution": {
     "iopub.execute_input": "2025-01-06T05:28:28.592962Z",
     "iopub.status.busy": "2025-01-06T05:28:28.592630Z",
     "iopub.status.idle": "2025-01-06T05:28:28.669407Z",
     "shell.execute_reply": "2025-01-06T05:28:28.668403Z",
     "shell.execute_reply.started": "2025-01-06T05:28:28.592921Z"
    },
    "trusted": true
   },
   "outputs": [],
   "source": [
    "SERVICE_ACCOUNT_FILE = '/kaggle/input/ticket/ticket-446915-cdafebdb6f64.json'\n",
    "from kaggle_secrets import UserSecretsClient\n",
    "user_secrets = UserSecretsClient()\n",
    "folder_id = user_secrets.get_secret(\"folder_id\")"
   ]
  },
  {
   "cell_type": "code",
   "execution_count": null,
   "metadata": {
    "execution": {
     "iopub.execute_input": "2025-01-06T05:28:28.671497Z",
     "iopub.status.busy": "2025-01-06T05:28:28.671208Z",
     "iopub.status.idle": "2025-01-06T05:28:28.677552Z",
     "shell.execute_reply": "2025-01-06T05:28:28.676694Z",
     "shell.execute_reply.started": "2025-01-06T05:28:28.671474Z"
    },
    "trusted": true
   },
   "outputs": [],
   "source": [
    "from google.oauth2 import service_account\n",
    "from googleapiclient.discovery import build\n",
    "from googleapiclient.http import MediaFileUpload\n",
    "from datetime import datetime\n",
    "\n",
    "import os\n",
    "\n",
    "def upload_to_google_drive(file_path, folder_id=None):\n",
    "    # Define the scopes\n",
    "    SCOPES = ['https://www.googleapis.com/auth/drive.file']\n",
    "    SERVICE_ACCOUNT_FILE = '/kaggle/input/ticket/ticket-446915-cdafebdb6f64.json'\n",
    "\n",
    "    # Authenticate using the service account\n",
    "    credentials = service_account.Credentials.from_service_account_file(\n",
    "        SERVICE_ACCOUNT_FILE, scopes=SCOPES\n",
    "    )\n",
    "\n",
    "    # Build the Drive API client\n",
    "    drive_service = build('drive', 'v3', credentials=credentials)\n",
    "\n",
    "    # Get the file name from the file path\n",
    "    file_name = os.path.basename(file_path)\n",
    "\n",
    "    # Metadata for the file\n",
    "    file_metadata = {'name': file_name}\n",
    "    if folder_id:\n",
    "        file_metadata['parents'] = [folder_id]\n",
    "\n",
    "    # Upload the file\n",
    "    media = MediaFileUpload(file_path, resumable=True)\n",
    "    file = drive_service.files().create(body=file_metadata, media_body=media, fields='id').execute()\n",
    "\n",
    "    print(f\"File '{file_name}' uploaded successfully to Google Drive.\")\n",
    "    return file.get('id')\n",
    "\n",
    "#upload_to_google_drive(service_account_file, file_path, folder_id)"
   ]
  },
  {
   "cell_type": "code",
   "execution_count": null,
   "metadata": {
    "execution": {
     "iopub.execute_input": "2025-01-06T05:28:28.679589Z",
     "iopub.status.busy": "2025-01-06T05:28:28.679307Z",
     "iopub.status.idle": "2025-01-06T05:28:28.699432Z",
     "shell.execute_reply": "2025-01-06T05:28:28.698364Z",
     "shell.execute_reply.started": "2025-01-06T05:28:28.679566Z"
    },
    "trusted": true
   },
   "outputs": [],
   "source": [
    "import zipfile\n",
    "\n",
    "def zip_specific_folders(folders, output_zip_path):\n",
    "    # Create a ZipFile object in write mode\n",
    "    with zipfile.ZipFile(output_zip_path, 'w', zipfile.ZIP_DEFLATED) as zipf:\n",
    "        for folder in folders:\n",
    "            # Ensure the folder exists\n",
    "            if os.path.exists(folder) and os.path.isdir(folder):\n",
    "                # Walk through the folder\n",
    "                for root, dirs, files in os.walk(folder):\n",
    "                    for file in files:\n",
    "                        # Create the full file path\n",
    "                        file_path = os.path.join(root, file)\n",
    "                        # Add file to the zip file\n",
    "                        # arcname is used to preserve the folder structure in the zip file\n",
    "                        arcname = os.path.relpath(file_path, start=os.path.dirname(folder))\n",
    "                        zipf.write(file_path, arcname)\n",
    "            else:\n",
    "                print(f\"Folder '{folder}' does not exist or is not a directory.\")\n",
    "\n",
    "    print(f\"Folders {folders} zipped successfully into '{output_zip_path}'.\")"
   ]
  },
  {
   "cell_type": "markdown",
   "metadata": {},
   "source": [
    "**Define meta paragram**"
   ]
  },
  {
   "cell_type": "code",
   "execution_count": null,
   "metadata": {
    "execution": {
     "iopub.execute_input": "2025-01-06T05:28:28.700891Z",
     "iopub.status.busy": "2025-01-06T05:28:28.700512Z",
     "iopub.status.idle": "2025-01-06T05:28:28.716497Z",
     "shell.execute_reply": "2025-01-06T05:28:28.715363Z",
     "shell.execute_reply.started": "2025-01-06T05:28:28.700838Z"
    },
    "trusted": true
   },
   "outputs": [],
   "source": [
    "EPOCH_SIZE = 100\n",
    "BATCH_SIZE = 64\n",
    "GPU_ID = 0\n",
    "BASE_DIR = './'\n",
    "DATA_ROOT = './datasets/StanfordDogs'"
   ]
  },
  {
   "cell_type": "code",
   "execution_count": null,
   "metadata": {
    "trusted": true
   },
   "outputs": [],
   "source": [
    "config = 'a'\n",
    "network_type = 'spatialTickNet'\n",
    "\n",
    "!python ./TickNets/TickNet_Dogs.py \\\n",
    "    --download \\\n",
    "    --base-dir={BASE_DIR} \\\n",
    "    --data-root={DATA_ROOT} \\\n",
    "    --network-type={network_type} \\\n",
    "    --architecture-types='basic' \\\n",
    "    --config={config} \\\n",
    "    -g {GPU_ID} -b {BATCH_SIZE} -e {EPOCH_SIZE}\n",
    "\n",
    "\n",
    "datetime_string = datetime.now().strftime('%Y%m%d%H%M')\n",
    "output_file_name = f'traning_result_StanfordDogs_batch{BATCH_SIZE}_epoch{EPOCH_SIZE}_spatialTickNet_basic_{config}_{datetime_string}'\n",
    "zip_specific_folders(['checkpoints', 'report'], output_file_name)\n",
    "upload_to_google_drive(f'./{output_file_name}', folder_id)"
   ]
  },
  {
   "cell_type": "code",
   "execution_count": null,
   "metadata": {
    "execution": {
     "execution_failed": "2025-01-06T05:31:37.021Z"
    },
    "trusted": true
   },
   "outputs": [],
   "source": [
    "# config = 'b'\n",
    "# network_type = 'spatialTickNet'\n",
    "\n",
    "# !python ./TickNets/TickNet_Dogs.py \\\n",
    "#     --download \\\n",
    "#     --base-dir={BASE_DIR} \\\n",
    "#     --data-root={DATA_ROOT} \\\n",
    "#     --network-type={network_type} \\\n",
    "#     --architecture-types='basic' \\\n",
    "#     --config={config} \\\n",
    "#     -g {GPU_ID} -b {BATCH_SIZE} -e {EPOCH_SIZE}\n",
    "\n",
    "# datetime_string = datetime.now().strftime('%Y%m%d%H%M')\n",
    "# output_file_name = f'traning_result_StanfordDogs_batch{BATCH_SIZE}_epoch{EPOCH_SIZE}_spatialTickNet_basic_{config}_{datetime_string}'\n",
    "# zip_specific_folders(['checkpoints', 'report'], output_file_name)\n",
    "# upload_to_google_drive(f'./{output_file_name}', folder_id)"
   ]
  },
  {
   "cell_type": "code",
   "execution_count": null,
   "metadata": {
    "execution": {
     "execution_failed": "2025-01-06T05:31:37.021Z"
    },
    "trusted": true
   },
   "outputs": [],
   "source": [
    "# config = 'c'\n",
    "# network_type = 'spatialTickNet'\n",
    "\n",
    "# !python ./TickNets/TickNet_Dogs.py \\\n",
    "#     --download \\\n",
    "#     --base-dir={BASE_DIR} \\\n",
    "#     --data-root={DATA_ROOT} \\\n",
    "#     --network-type={network_type} \\\n",
    "#     --architecture-types='basic' \\\n",
    "#     --config={config} \\\n",
    "#     -g {GPU_ID} -b {BATCH_SIZE} -e {EPOCH_SIZE}\n",
    "\n",
    "# datetime_string = datetime.now().strftime('%Y%m%d%H%M')\n",
    "# output_file_name = f'traning_result_StanfordDogs_batch{BATCH_SIZE}_epoch{EPOCH_SIZE}_spatialTickNet_basic_{config}_{datetime_string}'\n",
    "# zip_specific_folders(['checkpoints', 'report'], output_file_name)\n",
    "# upload_to_google_drive(f'./{output_file_name}', folder_id)"
   ]
  },
  {
   "cell_type": "code",
   "execution_count": null,
   "metadata": {
    "execution": {
     "execution_failed": "2025-01-06T05:31:37.021Z"
    },
    "trusted": true
   },
   "outputs": [],
   "source": [
    "# network_type = 'tickNet'\n",
    "\n",
    "# !python ./TickNets/TickNet_Dogs.py \\\n",
    "#     --download \\\n",
    "#     --base-dir={BASE_DIR} \\\n",
    "#     --data-root={DATA_ROOT} \\\n",
    "#     --network-type={network_type} \\\n",
    "#     --architecture-types='basic' \\\n",
    "#     -g {GPU_ID} -b {BATCH_SIZE} -e {EPOCH_SIZE}\n",
    "\n",
    "# datetime_string = datetime.now().strftime('%Y%m%d%H%M')\n",
    "# output_file_name = f'traning_result_StanfordDogs_batch{BATCH_SIZE}_epoch{EPOCH_SIZE}_TickNet_basic_{config}_{datetime_string}'\n",
    "# zip_specific_folders(['checkpoints', 'report'], output_file_name)\n",
    "# upload_to_google_drive(f'./{output_file_name}', folder_id)"
   ]
  }
 ],
 "metadata": {
  "kaggle": {
   "accelerator": "gpu",
   "dataSources": [
    {
     "datasetId": 6431600,
     "sourceId": 10382371,
     "sourceType": "datasetVersion"
    }
   ],
   "dockerImageVersionId": 30823,
   "isGpuEnabled": true,
   "isInternetEnabled": true,
   "language": "python",
   "sourceType": "notebook"
  },
  "kernelspec": {
   "display_name": "Python 3",
   "language": "python",
   "name": "python3"
  },
  "language_info": {
   "codemirror_mode": {
    "name": "ipython",
    "version": 3
   },
   "file_extension": ".py",
   "mimetype": "text/x-python",
   "name": "python",
   "nbconvert_exporter": "python",
   "pygments_lexer": "ipython3",
   "version": "3.10.12"
  }
 },
 "nbformat": 4,
 "nbformat_minor": 4
}
